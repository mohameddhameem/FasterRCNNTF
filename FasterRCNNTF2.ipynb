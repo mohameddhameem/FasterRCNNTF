{
  "nbformat": 4,
  "nbformat_minor": 0,
  "metadata": {
    "colab": {
      "name": "FasterRCNNTF2.ipynb",
      "provenance": []
    },
    "kernelspec": {
      "name": "python3",
      "display_name": "Python 3"
    },
    "accelerator": "GPU"
  },
  "cells": [
    {
      "cell_type": "code",
      "metadata": {
        "id": "KFkwxnb9RiQq",
        "colab_type": "code",
        "outputId": "991667b9-d2fc-4b52-ff53-8c4495424a85",
        "colab": {
          "base_uri": "https://localhost:8080/",
          "height": 136
        }
      },
      "source": [
        "!git clone https://github.com/mohameddhameem/FasterRCNNTF.git"
      ],
      "execution_count": 1,
      "outputs": [
        {
          "output_type": "stream",
          "text": [
            "Cloning into 'FasterRCNNTF'...\n",
            "remote: Enumerating objects: 285, done.\u001b[K\n",
            "remote: Counting objects:   0% (1/285)\u001b[K\rremote: Counting objects:   1% (3/285)\u001b[K\rremote: Counting objects:   2% (6/285)\u001b[K\rremote: Counting objects:   3% (9/285)\u001b[K\rremote: Counting objects:   4% (12/285)\u001b[K\rremote: Counting objects:   5% (15/285)\u001b[K\rremote: Counting objects:   6% (18/285)\u001b[K\rremote: Counting objects:   7% (20/285)\u001b[K\rremote: Counting objects:   8% (23/285)\u001b[K\rremote: Counting objects:   9% (26/285)\u001b[K\rremote: Counting objects:  10% (29/285)\u001b[K\rremote: Counting objects:  11% (32/285)\u001b[K\rremote: Counting objects:  12% (35/285)\u001b[K\rremote: Counting objects:  13% (38/285)\u001b[K\rremote: Counting objects:  14% (40/285)\u001b[K\rremote: Counting objects:  15% (43/285)\u001b[K\rremote: Counting objects:  16% (46/285)\u001b[K\rremote: Counting objects:  17% (49/285)\u001b[K\rremote: Counting objects:  18% (52/285)\u001b[K\rremote: Counting objects:  19% (55/285)\u001b[K\rremote: Counting objects:  20% (57/285)\u001b[K\rremote: Counting objects:  21% (60/285)\u001b[K\rremote: Counting objects:  22% (63/285)\u001b[K\rremote: Counting objects:  23% (66/285)\u001b[K\rremote: Counting objects:  24% (69/285)\u001b[K\rremote: Counting objects:  25% (72/285)\u001b[K\rremote: Counting objects:  26% (75/285)\u001b[K\rremote: Counting objects:  27% (77/285)\u001b[K\rremote: Counting objects:  28% (80/285)\u001b[K\rremote: Counting objects:  29% (83/285)\u001b[K\rremote: Counting objects:  30% (86/285)\u001b[K\rremote: Counting objects:  31% (89/285)\u001b[K\rremote: Counting objects:  32% (92/285)\u001b[K\rremote: Counting objects:  33% (95/285)\u001b[K\rremote: Counting objects:  34% (97/285)\u001b[K\rremote: Counting objects:  35% (100/285)\u001b[K\rremote: Counting objects:  36% (103/285)\u001b[K\rremote: Counting objects:  37% (106/285)\u001b[K\rremote: Counting objects:  38% (109/285)\u001b[K\rremote: Counting objects:  39% (112/285)\u001b[K\rremote: Counting objects:  40% (114/285)\u001b[K\rremote: Counting objects:  41% (117/285)\u001b[K\rremote: Counting objects:  42% (120/285)\u001b[K\rremote: Counting objects:  43% (123/285)\u001b[K\rremote: Counting objects:  44% (126/285)\u001b[K\rremote: Counting objects:  45% (129/285)\u001b[K\rremote: Counting objects:  46% (132/285)\u001b[K\rremote: Counting objects:  47% (134/285)\u001b[K\rremote: Counting objects:  48% (137/285)\u001b[K\rremote: Counting objects:  49% (140/285)\u001b[K\rremote: Counting objects:  50% (143/285)\u001b[K\rremote: Counting objects:  51% (146/285)\u001b[K\rremote: Counting objects:  52% (149/285)\u001b[K\rremote: Counting objects:  53% (152/285)\u001b[K\rremote: Counting objects:  54% (154/285)\u001b[K\rremote: Counting objects:  55% (157/285)\u001b[K\rremote: Counting objects:  56% (160/285)\u001b[K\rremote: Counting objects:  57% (163/285)\u001b[K\rremote: Counting objects:  58% (166/285)\u001b[K\rremote: Counting objects:  59% (169/285)\u001b[K\rremote: Counting objects:  60% (171/285)\u001b[K\rremote: Counting objects:  61% (174/285)\u001b[K\rremote: Counting objects:  62% (177/285)\u001b[K\rremote: Counting objects:  63% (180/285)\u001b[K\rremote: Counting objects:  64% (183/285)\u001b[K\rremote: Counting objects:  65% (186/285)\u001b[K\rremote: Counting objects:  66% (189/285)\u001b[K\rremote: Counting objects:  67% (191/285)\u001b[K\rremote: Counting objects:  68% (194/285)\u001b[K\rremote: Counting objects:  69% (197/285)\u001b[K\rremote: Counting objects:  70% (200/285)\u001b[K\rremote: Counting objects:  71% (203/285)\u001b[K\rremote: Counting objects:  72% (206/285)\u001b[K\rremote: Counting objects:  73% (209/285)\u001b[K\rremote: Counting objects:  74% (211/285)\u001b[K\rremote: Counting objects:  75% (214/285)\u001b[K\rremote: Counting objects:  76% (217/285)\u001b[K\rremote: Counting objects:  77% (220/285)\u001b[K\rremote: Counting objects:  78% (223/285)\u001b[K\rremote: Counting objects:  79% (226/285)\u001b[K\rremote: Counting objects:  80% (228/285)\u001b[K\rremote: Counting objects:  81% (231/285)\u001b[K\rremote: Counting objects:  82% (234/285)\u001b[K\rremote: Counting objects:  83% (237/285)\u001b[K\rremote: Counting objects:  84% (240/285)\u001b[K\rremote: Counting objects:  85% (243/285)\u001b[K\rremote: Counting objects:  86% (246/285)\u001b[K\rremote: Counting objects:  87% (248/285)\u001b[K\rremote: Counting objects:  88% (251/285)\u001b[K\rremote: Counting objects:  89% (254/285)\u001b[K\rremote: Counting objects:  90% (257/285)\u001b[K\rremote: Counting objects:  91% (260/285)\u001b[K\rremote: Counting objects:  92% (263/285)\u001b[K\rremote: Counting objects:  93% (266/285)\u001b[K\rremote: Counting objects:  94% (268/285)\u001b[K\rremote: Counting objects:  95% (271/285)\u001b[K\rremote: Counting objects:  96% (274/285)\u001b[K\rremote: Counting objects:  97% (277/285)\u001b[K\rremote: Counting objects:  98% (280/285)\u001b[K\rremote: Counting objects:  99% (283/285)\u001b[K\rremote: Counting objects: 100% (285/285)\u001b[K\rremote: Counting objects: 100% (285/285), done.\u001b[K\n",
            "remote: Compressing objects:   0% (1/192)\u001b[K\rremote: Compressing objects:   1% (2/192)\u001b[K\rremote: Compressing objects:   2% (4/192)\u001b[K\rremote: Compressing objects:   3% (6/192)\u001b[K\rremote: Compressing objects:   4% (8/192)\u001b[K\rremote: Compressing objects:   5% (10/192)\u001b[K\rremote: Compressing objects:   6% (12/192)\u001b[K\rremote: Compressing objects:   7% (14/192)\u001b[K\rremote: Compressing objects:   8% (16/192)\u001b[K\rremote: Compressing objects:   9% (18/192)\u001b[K\rremote: Compressing objects:  10% (20/192)\u001b[K\rremote: Compressing objects:  11% (22/192)\u001b[K\rremote: Compressing objects:  12% (24/192)\u001b[K\rremote: Compressing objects:  13% (25/192)\u001b[K\rremote: Compressing objects:  14% (27/192)\u001b[K\rremote: Compressing objects:  15% (29/192)\u001b[K\rremote: Compressing objects:  16% (31/192)\u001b[K\rremote: Compressing objects:  17% (33/192)\u001b[K\rremote: Compressing objects:  18% (35/192)\u001b[K\rremote: Compressing objects:  19% (37/192)\u001b[K\rremote: Compressing objects:  20% (39/192)\u001b[K\rremote: Compressing objects:  21% (41/192)\u001b[K\rremote: Compressing objects:  22% (43/192)\u001b[K\rremote: Compressing objects:  23% (45/192)\u001b[K\rremote: Compressing objects:  24% (47/192)\u001b[K\rremote: Compressing objects:  25% (48/192)\u001b[K\rremote: Compressing objects:  26% (50/192)\u001b[K\rremote: Compressing objects:  27% (52/192)\u001b[K\rremote: Compressing objects:  28% (54/192)\u001b[K\rremote: Compressing objects:  29% (56/192)\u001b[K\rremote: Compressing objects:  30% (58/192)\u001b[K\rremote: Compressing objects:  31% (60/192)\u001b[K\rremote: Compressing objects:  32% (62/192)\u001b[K\rremote: Compressing objects:  33% (64/192)\u001b[K\rremote: Compressing objects:  34% (66/192)\u001b[K\rremote: Compressing objects:  35% (68/192)\u001b[K\rremote: Compressing objects:  36% (70/192)\u001b[K\rremote: Compressing objects:  37% (72/192)\u001b[K\rremote: Compressing objects:  38% (73/192)\u001b[K\rremote: Compressing objects:  39% (75/192)\u001b[K\rremote: Compressing objects:  40% (77/192)\u001b[K\rremote: Compressing objects:  41% (79/192)\u001b[K\rremote: Compressing objects:  42% (81/192)\u001b[K\rremote: Compressing objects:  43% (83/192)\u001b[K\rremote: Compressing objects:  44% (85/192)\u001b[K\rremote: Compressing objects:  45% (87/192)\u001b[K\rremote: Compressing objects:  46% (89/192)\u001b[K\rremote: Compressing objects:  47% (91/192)\u001b[K\rremote: Compressing objects:  48% (93/192)\u001b[K\rremote: Compressing objects:  49% (95/192)\u001b[K\rremote: Compressing objects:  50% (96/192)\u001b[K\rremote: Compressing objects:  51% (98/192)\u001b[K\rremote: Compressing objects:  52% (100/192)\u001b[K\rremote: Compressing objects:  53% (102/192)\u001b[K\rremote: Compressing objects:  54% (104/192)\u001b[K\rremote: Compressing objects:  55% (106/192)\u001b[K\rremote: Compressing objects:  56% (108/192)\u001b[K\rremote: Compressing objects:  57% (110/192)\u001b[K\rremote: Compressing objects:  58% (112/192)\u001b[K\rremote: Compressing objects:  59% (114/192)\u001b[K\rremote: Compressing objects:  60% (116/192)\u001b[K\rremote: Compressing objects:  61% (118/192)\u001b[K\rremote: Compressing objects:  62% (120/192)\u001b[K\rremote: Compressing objects:  63% (121/192)\u001b[K\rremote: Compressing objects:  64% (123/192)\u001b[K\rremote: Compressing objects:  65% (125/192)\u001b[K\rremote: Compressing objects:  66% (127/192)\u001b[K\rremote: Compressing objects:  67% (129/192)\u001b[K\rremote: Compressing objects:  68% (131/192)\u001b[K\rremote: Compressing objects:  69% (133/192)\u001b[K\rremote: Compressing objects:  70% (135/192)\u001b[K\rremote: Compressing objects:  71% (137/192)\u001b[K\rremote: Compressing objects:  72% (139/192)\u001b[K\rremote: Compressing objects:  73% (141/192)\u001b[K\rremote: Compressing objects:  74% (143/192)\u001b[K\rremote: Compressing objects:  75% (144/192)\u001b[K\rremote: Compressing objects:  76% (146/192)\u001b[K\rremote: Compressing objects:  77% (148/192)\u001b[K\rremote: Compressing objects:  78% (150/192)\u001b[K\rremote: Compressing objects:  79% (152/192)\u001b[K\rremote: Compressing objects:  80% (154/192)\u001b[K\rremote: Compressing objects:  81% (156/192)\u001b[K\rremote: Compressing objects:  82% (158/192)\u001b[K\rremote: Compressing objects:  83% (160/192)\u001b[K\rremote: Compressing objects:  84% (162/192)\u001b[K\rremote: Compressing objects:  85% (164/192)\u001b[K\rremote: Compressing objects:  86% (166/192)\u001b[K\rremote: Compressing objects:  87% (168/192)\u001b[K\rremote: Compressing objects:  88% (169/192)\u001b[K\rremote: Compressing objects:  89% (171/192)\u001b[K\rremote: Compressing objects:  90% (173/192)\u001b[K\rremote: Compressing objects:  91% (175/192)\u001b[K\rremote: Compressing objects:  92% (177/192)\u001b[K\rremote: Compressing objects:  93% (179/192)\u001b[K\rremote: Compressing objects:  94% (181/192)\u001b[K\rremote: Compressing objects:  95% (183/192)\u001b[K\rremote: Compressing objects:  96% (185/192)\u001b[K\rremote: Compressing objects:  97% (187/192)\u001b[K\rremote: Compressing objects:  98% (189/192)\u001b[K\rremote: Compressing objects:  99% (191/192)\u001b[K\rremote: Compressing objects: 100% (192/192)\u001b[K\rremote: Compressing objects: 100% (192/192), done.\u001b[K\n",
            "Receiving objects:   0% (1/285)   \rReceiving objects:   1% (3/285)   \rReceiving objects:   2% (6/285)   \rReceiving objects:   3% (9/285)   \rReceiving objects:   4% (12/285)   \rReceiving objects:   5% (15/285)   \rReceiving objects:   6% (18/285)   \rReceiving objects:   7% (20/285)   \rReceiving objects:   8% (23/285)   \rReceiving objects:   9% (26/285)   \rReceiving objects:  10% (29/285)   \rReceiving objects:  11% (32/285)   \rReceiving objects:  12% (35/285)   \rReceiving objects:  13% (38/285)   \rReceiving objects:  14% (40/285)   \rReceiving objects:  15% (43/285)   \rReceiving objects:  16% (46/285)   \rReceiving objects:  17% (49/285)   \rReceiving objects:  18% (52/285)   \rReceiving objects:  19% (55/285)   \rReceiving objects:  20% (57/285)   \rReceiving objects:  21% (60/285)   \rReceiving objects:  22% (63/285)   \rReceiving objects:  23% (66/285)   \rReceiving objects:  24% (69/285)   \rReceiving objects:  25% (72/285)   \rReceiving objects:  26% (75/285)   \rReceiving objects:  27% (77/285)   \rReceiving objects:  28% (80/285)   \rReceiving objects:  29% (83/285)   \rReceiving objects:  30% (86/285)   \rReceiving objects:  31% (89/285)   \rReceiving objects:  32% (92/285)   \rReceiving objects:  33% (95/285)   \rReceiving objects:  34% (97/285)   \rReceiving objects:  35% (100/285)   \rReceiving objects:  36% (103/285)   \rReceiving objects:  37% (106/285)   \rReceiving objects:  38% (109/285)   \rReceiving objects:  39% (112/285)   \rReceiving objects:  40% (114/285)   \rReceiving objects:  41% (117/285)   \rReceiving objects:  42% (120/285)   \rReceiving objects:  43% (123/285)   \rReceiving objects:  44% (126/285)   \rReceiving objects:  45% (129/285)   \rReceiving objects:  46% (132/285)   \rReceiving objects:  47% (134/285)   \rReceiving objects:  48% (137/285)   \rReceiving objects:  49% (140/285)   \rReceiving objects:  50% (143/285)   \rReceiving objects:  51% (146/285)   \rReceiving objects:  52% (149/285)   \rReceiving objects:  53% (152/285)   \rReceiving objects:  54% (154/285)   \rReceiving objects:  55% (157/285)   \rReceiving objects:  56% (160/285)   \rReceiving objects:  57% (163/285)   \rReceiving objects:  58% (166/285)   \rReceiving objects:  59% (169/285)   \rReceiving objects:  60% (171/285)   \rReceiving objects:  61% (174/285)   \rReceiving objects:  62% (177/285)   \rReceiving objects:  63% (180/285)   \rReceiving objects:  64% (183/285)   \rReceiving objects:  65% (186/285)   \rReceiving objects:  66% (189/285)   \rReceiving objects:  67% (191/285)   \rReceiving objects:  68% (194/285)   \rReceiving objects:  69% (197/285)   \rReceiving objects:  70% (200/285)   \rReceiving objects:  71% (203/285)   \rReceiving objects:  72% (206/285)   \rReceiving objects:  73% (209/285)   \rReceiving objects:  74% (211/285)   \rReceiving objects:  75% (214/285)   \rReceiving objects:  76% (217/285)   \rReceiving objects:  77% (220/285)   \rReceiving objects:  78% (223/285)   \rReceiving objects:  79% (226/285)   \rReceiving objects:  80% (228/285)   \rReceiving objects:  81% (231/285)   \rReceiving objects:  82% (234/285)   \rReceiving objects:  83% (237/285)   \rReceiving objects:  84% (240/285)   \rReceiving objects:  85% (243/285)   \rReceiving objects:  86% (246/285)   \rReceiving objects:  87% (248/285)   \rremote: Total 285 (delta 80), reused 285 (delta 80), pack-reused 0\u001b[K\n",
            "Receiving objects:  88% (251/285)   \rReceiving objects:  89% (254/285)   \rReceiving objects:  90% (257/285)   \rReceiving objects:  91% (260/285)   \rReceiving objects:  92% (263/285)   \rReceiving objects:  93% (266/285)   \rReceiving objects:  94% (268/285)   \rReceiving objects:  95% (271/285)   \rReceiving objects:  96% (274/285)   \rReceiving objects:  97% (277/285)   \rReceiving objects:  98% (280/285)   \rReceiving objects:  99% (283/285)   \rReceiving objects: 100% (285/285)   \rReceiving objects: 100% (285/285), 3.39 MiB | 18.39 MiB/s, done.\n",
            "Resolving deltas:   0% (0/80)   \rResolving deltas:   3% (3/80)   \rResolving deltas:   5% (4/80)   \rResolving deltas:  10% (8/80)   \rResolving deltas:  12% (10/80)   \rResolving deltas:  20% (16/80)   \rResolving deltas:  22% (18/80)   \rResolving deltas:  25% (20/80)   \rResolving deltas:  27% (22/80)   \rResolving deltas:  35% (28/80)   \rResolving deltas:  36% (29/80)   \rResolving deltas:  37% (30/80)   \rResolving deltas:  41% (33/80)   \rResolving deltas:  42% (34/80)   \rResolving deltas:  43% (35/80)   \rResolving deltas:  45% (36/80)   \rResolving deltas:  48% (39/80)   \rResolving deltas:  50% (40/80)   \rResolving deltas:  51% (41/80)   \rResolving deltas:  66% (53/80)   \rResolving deltas:  87% (70/80)   \rResolving deltas:  88% (71/80)   \rResolving deltas:  90% (72/80)   \rResolving deltas:  93% (75/80)   \rResolving deltas:  97% (78/80)   \rResolving deltas:  98% (79/80)   \rResolving deltas: 100% (80/80)   \rResolving deltas: 100% (80/80), done.\n"
          ],
          "name": "stdout"
        }
      ]
    },
    {
      "cell_type": "code",
      "metadata": {
        "id": "62B_F7Gfx043",
        "colab_type": "code",
        "outputId": "d99a7982-ae41-4177-ecc7-040aad03ae61",
        "colab": {
          "base_uri": "https://localhost:8080/",
          "height": 34
        }
      },
      "source": [
        "%cd FasterRCNNTF"
      ],
      "execution_count": 2,
      "outputs": [
        {
          "output_type": "stream",
          "text": [
            "/content/FasterRCNNTF\n"
          ],
          "name": "stdout"
        }
      ]
    },
    {
      "cell_type": "code",
      "metadata": {
        "id": "echkI4nZyLdR",
        "colab_type": "code",
        "colab": {}
      },
      "source": [
        "!python preparedata.py"
      ],
      "execution_count": 0,
      "outputs": []
    },
    {
      "cell_type": "code",
      "metadata": {
        "id": "qIikq78byPnc",
        "colab_type": "code",
        "colab": {}
      },
      "source": [
        "%cd data"
      ],
      "execution_count": 0,
      "outputs": []
    },
    {
      "cell_type": "code",
      "metadata": {
        "id": "9LsO_Px1zoRq",
        "colab_type": "code",
        "colab": {}
      },
      "source": [
        "%mkdir VOCDevkit2007"
      ],
      "execution_count": 0,
      "outputs": []
    },
    {
      "cell_type": "code",
      "metadata": {
        "id": "FcOy6JCzzs5c",
        "colab_type": "code",
        "colab": {}
      },
      "source": [
        "!unzip -q data.zip"
      ],
      "execution_count": 0,
      "outputs": []
    },
    {
      "cell_type": "code",
      "metadata": {
        "id": "WYoSWXVwz1G5",
        "colab_type": "code",
        "colab": {}
      },
      "source": [
        "!mv /content/FasterRCNNTF/data/CLAHE /content/FasterRCNNTF/data/VOCDevkit2007/VOC2007"
      ],
      "execution_count": 0,
      "outputs": []
    },
    {
      "cell_type": "code",
      "metadata": {
        "id": "_kl1a8-W033V",
        "colab_type": "code",
        "colab": {}
      },
      "source": [
        "%cd /content/FasterRCNNTF"
      ],
      "execution_count": 0,
      "outputs": []
    },
    {
      "cell_type": "code",
      "metadata": {
        "id": "e4FBtbt11eeu",
        "colab_type": "code",
        "colab": {}
      },
      "source": [
        "!rm /content/FasterRCNNTF/data/data.zip"
      ],
      "execution_count": 0,
      "outputs": []
    },
    {
      "cell_type": "code",
      "metadata": {
        "id": "7TrHgB9629pR",
        "colab_type": "code",
        "colab": {}
      },
      "source": [
        "%cd /content/FasterRCNNTF/data/"
      ],
      "execution_count": 0,
      "outputs": []
    },
    {
      "cell_type": "code",
      "metadata": {
        "id": "t5QjPVf53kZc",
        "colab_type": "code",
        "colab": {}
      },
      "source": [
        "%mkdir imagenet_weights"
      ],
      "execution_count": 0,
      "outputs": []
    },
    {
      "cell_type": "code",
      "metadata": {
        "id": "TBuyAsvC3tnh",
        "colab_type": "code",
        "colab": {}
      },
      "source": [
        "!wget http://download.tensorflow.org/models/vgg_16_2016_08_28.tar.gz"
      ],
      "execution_count": 0,
      "outputs": []
    },
    {
      "cell_type": "code",
      "metadata": {
        "id": "OQP405-T34GO",
        "colab_type": "code",
        "colab": {}
      },
      "source": [
        "#Lets unzip the tar.gz file\n",
        "!tar -zxvf vgg_16_2016_08_28.tar.gz"
      ],
      "execution_count": 0,
      "outputs": []
    },
    {
      "cell_type": "code",
      "metadata": {
        "id": "bD0Ui8FvALqi",
        "colab_type": "code",
        "colab": {}
      },
      "source": [
        "#validate the extraction\n",
        "!ls -ltr"
      ],
      "execution_count": 0,
      "outputs": []
    },
    {
      "cell_type": "code",
      "metadata": {
        "id": "S14LX3EXAR1B",
        "colab_type": "code",
        "colab": {}
      },
      "source": [
        "!rm vgg_16_2016_08_28.tar.gz"
      ],
      "execution_count": 0,
      "outputs": []
    },
    {
      "cell_type": "code",
      "metadata": {
        "id": "8zw0T3JWCwoR",
        "colab_type": "code",
        "colab": {}
      },
      "source": [
        "!mv /content/FasterRCNNTF/data/vgg_16.ckpt /content/FasterRCNNTF/data/imagenet_weights/vgg16.ckpt"
      ],
      "execution_count": 0,
      "outputs": []
    },
    {
      "cell_type": "code",
      "metadata": {
        "id": "nNrncYHsAYa0",
        "colab_type": "code",
        "colab": {}
      },
      "source": [
        "%cd /content/FasterRCNNTF/"
      ],
      "execution_count": 0,
      "outputs": []
    },
    {
      "cell_type": "code",
      "metadata": {
        "id": "4sNrcUXOAdA5",
        "colab_type": "code",
        "colab": {}
      },
      "source": [
        "#Lets do other setup here\n",
        "%cd ./data/coco/PythonAPI\n",
        "!python setup.py build_ext --inplace\n",
        "!python setup.py build_ext install"
      ],
      "execution_count": 0,
      "outputs": []
    },
    {
      "cell_type": "code",
      "metadata": {
        "id": "OAZsxDh-BBWT",
        "colab_type": "code",
        "colab": {}
      },
      "source": [
        "%cd /content/FasterRCNNTF/lib/utils\n",
        "!python setup.py build_ext --inplace"
      ],
      "execution_count": 0,
      "outputs": []
    },
    {
      "cell_type": "code",
      "metadata": {
        "id": "d5R9kfwABp_7",
        "colab_type": "code",
        "colab": {}
      },
      "source": [
        "%cd /content/FasterRCNNTF"
      ],
      "execution_count": 0,
      "outputs": []
    },
    {
      "cell_type": "code",
      "metadata": {
        "id": "wBjbQqMmBzJI",
        "colab_type": "code",
        "colab": {}
      },
      "source": [
        "!python train.py"
      ],
      "execution_count": 0,
      "outputs": []
    },
    {
      "cell_type": "code",
      "metadata": {
        "id": "eF7UkUbOB1IJ",
        "colab_type": "code",
        "colab": {}
      },
      "source": [
        ""
      ],
      "execution_count": 0,
      "outputs": []
    }
  ]
}